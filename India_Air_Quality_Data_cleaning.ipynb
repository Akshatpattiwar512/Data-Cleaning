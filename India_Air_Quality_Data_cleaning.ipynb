{
  "nbformat": 4,
  "nbformat_minor": 0,
  "metadata": {
    "colab": {
      "name": "India Air Quality-Data cleaning",
      "provenance": [],
      "authorship_tag": "ABX9TyNJJWjJZpRqSVqJ6Iqu/aoX",
      "include_colab_link": true
    },
    "kernelspec": {
      "name": "python3",
      "display_name": "Python 3"
    }
  },
  "cells": [
    {
      "cell_type": "markdown",
      "metadata": {
        "id": "view-in-github",
        "colab_type": "text"
      },
      "source": [
        "<a href=\"https://colab.research.google.com/github/Akshatpattiwar512/Data-Cleaning/blob/main/India_Air_Quality_Data_cleaning.ipynb\" target=\"_parent\"><img src=\"https://colab.research.google.com/assets/colab-badge.svg\" alt=\"Open In Colab\"/></a>"
      ]
    },
    {
      "cell_type": "code",
      "metadata": {
        "id": "5sinC1T1mw9b"
      },
      "source": [
        "import matplotlib.pyplot as plt\r\n",
        "import pandas as pd\r\n",
        "import numpy as np\r\n",
        "import seaborn as sns\r\n",
        "import warnings\r\n",
        "warnings.filterwarnings('ignore')\r\n",
        "%matplotlib inline"
      ],
      "execution_count": 2,
      "outputs": []
    },
    {
      "cell_type": "code",
      "metadata": {
        "colab": {
          "base_uri": "https://localhost:8080/",
          "height": 825
        },
        "id": "1jjWoAfPG3bB",
        "outputId": "e0991ef8-a3bf-48e2-a6df-d7147be29d81"
      },
      "source": [
        "df = pd.read_csv('data.csv', encoding='mac_roman')\r\n",
        "df"
      ],
      "execution_count": 5,
      "outputs": [
        {
          "output_type": "execute_result",
          "data": {
            "text/html": [
              "<div>\n",
              "<style scoped>\n",
              "    .dataframe tbody tr th:only-of-type {\n",
              "        vertical-align: middle;\n",
              "    }\n",
              "\n",
              "    .dataframe tbody tr th {\n",
              "        vertical-align: top;\n",
              "    }\n",
              "\n",
              "    .dataframe thead th {\n",
              "        text-align: right;\n",
              "    }\n",
              "</style>\n",
              "<table border=\"1\" class=\"dataframe\">\n",
              "  <thead>\n",
              "    <tr style=\"text-align: right;\">\n",
              "      <th></th>\n",
              "      <th>stn_code</th>\n",
              "      <th>sampling_date</th>\n",
              "      <th>state</th>\n",
              "      <th>location</th>\n",
              "      <th>agency</th>\n",
              "      <th>type</th>\n",
              "      <th>so2</th>\n",
              "      <th>no2</th>\n",
              "      <th>rspm</th>\n",
              "      <th>spm</th>\n",
              "      <th>location_monitoring_station</th>\n",
              "      <th>pm2_5</th>\n",
              "      <th>date</th>\n",
              "    </tr>\n",
              "  </thead>\n",
              "  <tbody>\n",
              "    <tr>\n",
              "      <th>0</th>\n",
              "      <td>150.0</td>\n",
              "      <td>February - M021990</td>\n",
              "      <td>Andhra Pradesh</td>\n",
              "      <td>Hyderabad</td>\n",
              "      <td>NaN</td>\n",
              "      <td>Residential, Rural and other Areas</td>\n",
              "      <td>4.8</td>\n",
              "      <td>17.4</td>\n",
              "      <td>NaN</td>\n",
              "      <td>NaN</td>\n",
              "      <td>NaN</td>\n",
              "      <td>NaN</td>\n",
              "      <td>1990-02-01</td>\n",
              "    </tr>\n",
              "    <tr>\n",
              "      <th>1</th>\n",
              "      <td>151.0</td>\n",
              "      <td>February - M021990</td>\n",
              "      <td>Andhra Pradesh</td>\n",
              "      <td>Hyderabad</td>\n",
              "      <td>NaN</td>\n",
              "      <td>Industrial Area</td>\n",
              "      <td>3.1</td>\n",
              "      <td>7.0</td>\n",
              "      <td>NaN</td>\n",
              "      <td>NaN</td>\n",
              "      <td>NaN</td>\n",
              "      <td>NaN</td>\n",
              "      <td>1990-02-01</td>\n",
              "    </tr>\n",
              "    <tr>\n",
              "      <th>2</th>\n",
              "      <td>152.0</td>\n",
              "      <td>February - M021990</td>\n",
              "      <td>Andhra Pradesh</td>\n",
              "      <td>Hyderabad</td>\n",
              "      <td>NaN</td>\n",
              "      <td>Residential, Rural and other Areas</td>\n",
              "      <td>6.2</td>\n",
              "      <td>28.5</td>\n",
              "      <td>NaN</td>\n",
              "      <td>NaN</td>\n",
              "      <td>NaN</td>\n",
              "      <td>NaN</td>\n",
              "      <td>1990-02-01</td>\n",
              "    </tr>\n",
              "    <tr>\n",
              "      <th>3</th>\n",
              "      <td>150.0</td>\n",
              "      <td>March - M031990</td>\n",
              "      <td>Andhra Pradesh</td>\n",
              "      <td>Hyderabad</td>\n",
              "      <td>NaN</td>\n",
              "      <td>Residential, Rural and other Areas</td>\n",
              "      <td>6.3</td>\n",
              "      <td>14.7</td>\n",
              "      <td>NaN</td>\n",
              "      <td>NaN</td>\n",
              "      <td>NaN</td>\n",
              "      <td>NaN</td>\n",
              "      <td>1990-03-01</td>\n",
              "    </tr>\n",
              "    <tr>\n",
              "      <th>4</th>\n",
              "      <td>151.0</td>\n",
              "      <td>March - M031990</td>\n",
              "      <td>Andhra Pradesh</td>\n",
              "      <td>Hyderabad</td>\n",
              "      <td>NaN</td>\n",
              "      <td>Industrial Area</td>\n",
              "      <td>4.7</td>\n",
              "      <td>7.5</td>\n",
              "      <td>NaN</td>\n",
              "      <td>NaN</td>\n",
              "      <td>NaN</td>\n",
              "      <td>NaN</td>\n",
              "      <td>1990-03-01</td>\n",
              "    </tr>\n",
              "    <tr>\n",
              "      <th>...</th>\n",
              "      <td>...</td>\n",
              "      <td>...</td>\n",
              "      <td>...</td>\n",
              "      <td>...</td>\n",
              "      <td>...</td>\n",
              "      <td>...</td>\n",
              "      <td>...</td>\n",
              "      <td>...</td>\n",
              "      <td>...</td>\n",
              "      <td>...</td>\n",
              "      <td>...</td>\n",
              "      <td>...</td>\n",
              "      <td>...</td>\n",
              "    </tr>\n",
              "    <tr>\n",
              "      <th>80122</th>\n",
              "      <td>776.0</td>\n",
              "      <td>10-03-15</td>\n",
              "      <td>Goa</td>\n",
              "      <td>Ponda</td>\n",
              "      <td>Goa State Pollution Control Board</td>\n",
              "      <td>Residential, Rural and other Areas</td>\n",
              "      <td>5.0</td>\n",
              "      <td>10.0</td>\n",
              "      <td>78.0</td>\n",
              "      <td>NaN</td>\n",
              "      <td>Ponda Town</td>\n",
              "      <td>28.0</td>\n",
              "      <td>2015-03-10</td>\n",
              "    </tr>\n",
              "    <tr>\n",
              "      <th>80123</th>\n",
              "      <td>776.0</td>\n",
              "      <td>12-03-15</td>\n",
              "      <td>Goa</td>\n",
              "      <td>Ponda</td>\n",
              "      <td>Goa State Pollution Control Board</td>\n",
              "      <td>Residential, Rural and other Areas</td>\n",
              "      <td>4.0</td>\n",
              "      <td>9.0</td>\n",
              "      <td>78.0</td>\n",
              "      <td>NaN</td>\n",
              "      <td>Ponda Town</td>\n",
              "      <td>19.0</td>\n",
              "      <td>2015-03-12</td>\n",
              "    </tr>\n",
              "    <tr>\n",
              "      <th>80124</th>\n",
              "      <td>776.0</td>\n",
              "      <td>17-03-15</td>\n",
              "      <td>Goa</td>\n",
              "      <td>Ponda</td>\n",
              "      <td>Goa State Pollution Control Board</td>\n",
              "      <td>Residential, Rural and other Areas</td>\n",
              "      <td>4.0</td>\n",
              "      <td>8.0</td>\n",
              "      <td>73.0</td>\n",
              "      <td>NaN</td>\n",
              "      <td>Ponda Town</td>\n",
              "      <td>24.0</td>\n",
              "      <td>2015-03-17</td>\n",
              "    </tr>\n",
              "    <tr>\n",
              "      <th>80125</th>\n",
              "      <td>776.0</td>\n",
              "      <td>19-03-15</td>\n",
              "      <td>Goa</td>\n",
              "      <td>Ponda</td>\n",
              "      <td>Goa State Pollution Control Board</td>\n",
              "      <td>Residential, Rural and other Areas</td>\n",
              "      <td>4.0</td>\n",
              "      <td>9.0</td>\n",
              "      <td>43.0</td>\n",
              "      <td>NaN</td>\n",
              "      <td>Ponda Town</td>\n",
              "      <td>13.0</td>\n",
              "      <td>2015-03-19</td>\n",
              "    </tr>\n",
              "    <tr>\n",
              "      <th>80126</th>\n",
              "      <td>776.0</td>\n",
              "      <td>26-03-15</td>\n",
              "      <td>NaN</td>\n",
              "      <td>NaN</td>\n",
              "      <td>NaN</td>\n",
              "      <td>NaN</td>\n",
              "      <td>NaN</td>\n",
              "      <td>NaN</td>\n",
              "      <td>NaN</td>\n",
              "      <td>NaN</td>\n",
              "      <td>NaN</td>\n",
              "      <td>NaN</td>\n",
              "      <td>NaN</td>\n",
              "    </tr>\n",
              "  </tbody>\n",
              "</table>\n",
              "<p>80127 rows × 13 columns</p>\n",
              "</div>"
            ],
            "text/plain": [
              "       stn_code       sampling_date  ... pm2_5        date\n",
              "0         150.0  February - M021990  ...   NaN  1990-02-01\n",
              "1         151.0  February - M021990  ...   NaN  1990-02-01\n",
              "2         152.0  February - M021990  ...   NaN  1990-02-01\n",
              "3         150.0     March - M031990  ...   NaN  1990-03-01\n",
              "4         151.0     March - M031990  ...   NaN  1990-03-01\n",
              "...         ...                 ...  ...   ...         ...\n",
              "80122     776.0            10-03-15  ...  28.0  2015-03-10\n",
              "80123     776.0            12-03-15  ...  19.0  2015-03-12\n",
              "80124     776.0            17-03-15  ...  24.0  2015-03-17\n",
              "80125     776.0            19-03-15  ...  13.0  2015-03-19\n",
              "80126     776.0            26-03-15  ...   NaN         NaN\n",
              "\n",
              "[80127 rows x 13 columns]"
            ]
          },
          "metadata": {
            "tags": []
          },
          "execution_count": 5
        }
      ]
    },
    {
      "cell_type": "markdown",
      "metadata": {
        "id": "RhpUjcoDH_TD"
      },
      "source": [
        "Data Description"
      ]
    },
    {
      "cell_type": "code",
      "metadata": {
        "colab": {
          "base_uri": "https://localhost:8080/",
          "height": 350
        },
        "id": "36NuDDOfIBBj",
        "outputId": "17d2bd0e-2ec5-49a2-ab88-7999e9e59ebe"
      },
      "source": [
        "df.head()"
      ],
      "execution_count": 6,
      "outputs": [
        {
          "output_type": "execute_result",
          "data": {
            "text/html": [
              "<div>\n",
              "<style scoped>\n",
              "    .dataframe tbody tr th:only-of-type {\n",
              "        vertical-align: middle;\n",
              "    }\n",
              "\n",
              "    .dataframe tbody tr th {\n",
              "        vertical-align: top;\n",
              "    }\n",
              "\n",
              "    .dataframe thead th {\n",
              "        text-align: right;\n",
              "    }\n",
              "</style>\n",
              "<table border=\"1\" class=\"dataframe\">\n",
              "  <thead>\n",
              "    <tr style=\"text-align: right;\">\n",
              "      <th></th>\n",
              "      <th>stn_code</th>\n",
              "      <th>sampling_date</th>\n",
              "      <th>state</th>\n",
              "      <th>location</th>\n",
              "      <th>agency</th>\n",
              "      <th>type</th>\n",
              "      <th>so2</th>\n",
              "      <th>no2</th>\n",
              "      <th>rspm</th>\n",
              "      <th>spm</th>\n",
              "      <th>location_monitoring_station</th>\n",
              "      <th>pm2_5</th>\n",
              "      <th>date</th>\n",
              "    </tr>\n",
              "  </thead>\n",
              "  <tbody>\n",
              "    <tr>\n",
              "      <th>0</th>\n",
              "      <td>150.0</td>\n",
              "      <td>February - M021990</td>\n",
              "      <td>Andhra Pradesh</td>\n",
              "      <td>Hyderabad</td>\n",
              "      <td>NaN</td>\n",
              "      <td>Residential, Rural and other Areas</td>\n",
              "      <td>4.8</td>\n",
              "      <td>17.4</td>\n",
              "      <td>NaN</td>\n",
              "      <td>NaN</td>\n",
              "      <td>NaN</td>\n",
              "      <td>NaN</td>\n",
              "      <td>1990-02-01</td>\n",
              "    </tr>\n",
              "    <tr>\n",
              "      <th>1</th>\n",
              "      <td>151.0</td>\n",
              "      <td>February - M021990</td>\n",
              "      <td>Andhra Pradesh</td>\n",
              "      <td>Hyderabad</td>\n",
              "      <td>NaN</td>\n",
              "      <td>Industrial Area</td>\n",
              "      <td>3.1</td>\n",
              "      <td>7.0</td>\n",
              "      <td>NaN</td>\n",
              "      <td>NaN</td>\n",
              "      <td>NaN</td>\n",
              "      <td>NaN</td>\n",
              "      <td>1990-02-01</td>\n",
              "    </tr>\n",
              "    <tr>\n",
              "      <th>2</th>\n",
              "      <td>152.0</td>\n",
              "      <td>February - M021990</td>\n",
              "      <td>Andhra Pradesh</td>\n",
              "      <td>Hyderabad</td>\n",
              "      <td>NaN</td>\n",
              "      <td>Residential, Rural and other Areas</td>\n",
              "      <td>6.2</td>\n",
              "      <td>28.5</td>\n",
              "      <td>NaN</td>\n",
              "      <td>NaN</td>\n",
              "      <td>NaN</td>\n",
              "      <td>NaN</td>\n",
              "      <td>1990-02-01</td>\n",
              "    </tr>\n",
              "    <tr>\n",
              "      <th>3</th>\n",
              "      <td>150.0</td>\n",
              "      <td>March - M031990</td>\n",
              "      <td>Andhra Pradesh</td>\n",
              "      <td>Hyderabad</td>\n",
              "      <td>NaN</td>\n",
              "      <td>Residential, Rural and other Areas</td>\n",
              "      <td>6.3</td>\n",
              "      <td>14.7</td>\n",
              "      <td>NaN</td>\n",
              "      <td>NaN</td>\n",
              "      <td>NaN</td>\n",
              "      <td>NaN</td>\n",
              "      <td>1990-03-01</td>\n",
              "    </tr>\n",
              "    <tr>\n",
              "      <th>4</th>\n",
              "      <td>151.0</td>\n",
              "      <td>March - M031990</td>\n",
              "      <td>Andhra Pradesh</td>\n",
              "      <td>Hyderabad</td>\n",
              "      <td>NaN</td>\n",
              "      <td>Industrial Area</td>\n",
              "      <td>4.7</td>\n",
              "      <td>7.5</td>\n",
              "      <td>NaN</td>\n",
              "      <td>NaN</td>\n",
              "      <td>NaN</td>\n",
              "      <td>NaN</td>\n",
              "      <td>1990-03-01</td>\n",
              "    </tr>\n",
              "  </tbody>\n",
              "</table>\n",
              "</div>"
            ],
            "text/plain": [
              "   stn_code       sampling_date  ... pm2_5        date\n",
              "0     150.0  February - M021990  ...   NaN  1990-02-01\n",
              "1     151.0  February - M021990  ...   NaN  1990-02-01\n",
              "2     152.0  February - M021990  ...   NaN  1990-02-01\n",
              "3     150.0     March - M031990  ...   NaN  1990-03-01\n",
              "4     151.0     March - M031990  ...   NaN  1990-03-01\n",
              "\n",
              "[5 rows x 13 columns]"
            ]
          },
          "metadata": {
            "tags": []
          },
          "execution_count": 6
        }
      ]
    },
    {
      "cell_type": "code",
      "metadata": {
        "colab": {
          "base_uri": "https://localhost:8080/"
        },
        "id": "NVIT_X0TOpgn",
        "outputId": "60268484-cf7c-4322-aeff-3ea427c7ced9"
      },
      "source": [
        "df.info()"
      ],
      "execution_count": 7,
      "outputs": [
        {
          "output_type": "stream",
          "text": [
            "<class 'pandas.core.frame.DataFrame'>\n",
            "RangeIndex: 80127 entries, 0 to 80126\n",
            "Data columns (total 13 columns):\n",
            " #   Column                       Non-Null Count  Dtype  \n",
            "---  ------                       --------------  -----  \n",
            " 0   stn_code                     52376 non-null  float64\n",
            " 1   sampling_date                80127 non-null  object \n",
            " 2   state                        80126 non-null  object \n",
            " 3   location                     80126 non-null  object \n",
            " 4   agency                       51133 non-null  object \n",
            " 5   type                         78932 non-null  object \n",
            " 6   so2                          72720 non-null  float64\n",
            " 7   no2                          77122 non-null  float64\n",
            " 8   rspm                         73566 non-null  float64\n",
            " 9   spm                          38085 non-null  float64\n",
            " 10  location_monitoring_station  75076 non-null  object \n",
            " 11  pm2_5                        1356 non-null   float64\n",
            " 12  date                         80126 non-null  object \n",
            "dtypes: float64(6), object(7)\n",
            "memory usage: 7.9+ MB\n"
          ],
          "name": "stdout"
        }
      ]
    },
    {
      "cell_type": "code",
      "metadata": {
        "colab": {
          "base_uri": "https://localhost:8080/",
          "height": 432
        },
        "id": "tOvgIdPnOtIO",
        "outputId": "097851d1-d978-49d2-e04c-1f7838346a2d"
      },
      "source": [
        "missing_ratio = np.round(df.isna().sum()/len(df)*100,2)\r\n",
        "missing_ratio = pd.DataFrame(missing_ratio , columns=['Missing_Ratio'])\r\n",
        "missing_ratio.sort_values('Missing_Ratio',ascending=False)"
      ],
      "execution_count": 8,
      "outputs": [
        {
          "output_type": "execute_result",
          "data": {
            "text/html": [
              "<div>\n",
              "<style scoped>\n",
              "    .dataframe tbody tr th:only-of-type {\n",
              "        vertical-align: middle;\n",
              "    }\n",
              "\n",
              "    .dataframe tbody tr th {\n",
              "        vertical-align: top;\n",
              "    }\n",
              "\n",
              "    .dataframe thead th {\n",
              "        text-align: right;\n",
              "    }\n",
              "</style>\n",
              "<table border=\"1\" class=\"dataframe\">\n",
              "  <thead>\n",
              "    <tr style=\"text-align: right;\">\n",
              "      <th></th>\n",
              "      <th>Missing_Ratio</th>\n",
              "    </tr>\n",
              "  </thead>\n",
              "  <tbody>\n",
              "    <tr>\n",
              "      <th>pm2_5</th>\n",
              "      <td>98.31</td>\n",
              "    </tr>\n",
              "    <tr>\n",
              "      <th>spm</th>\n",
              "      <td>52.47</td>\n",
              "    </tr>\n",
              "    <tr>\n",
              "      <th>agency</th>\n",
              "      <td>36.19</td>\n",
              "    </tr>\n",
              "    <tr>\n",
              "      <th>stn_code</th>\n",
              "      <td>34.63</td>\n",
              "    </tr>\n",
              "    <tr>\n",
              "      <th>so2</th>\n",
              "      <td>9.24</td>\n",
              "    </tr>\n",
              "    <tr>\n",
              "      <th>rspm</th>\n",
              "      <td>8.19</td>\n",
              "    </tr>\n",
              "    <tr>\n",
              "      <th>location_monitoring_station</th>\n",
              "      <td>6.30</td>\n",
              "    </tr>\n",
              "    <tr>\n",
              "      <th>no2</th>\n",
              "      <td>3.75</td>\n",
              "    </tr>\n",
              "    <tr>\n",
              "      <th>type</th>\n",
              "      <td>1.49</td>\n",
              "    </tr>\n",
              "    <tr>\n",
              "      <th>sampling_date</th>\n",
              "      <td>0.00</td>\n",
              "    </tr>\n",
              "    <tr>\n",
              "      <th>state</th>\n",
              "      <td>0.00</td>\n",
              "    </tr>\n",
              "    <tr>\n",
              "      <th>location</th>\n",
              "      <td>0.00</td>\n",
              "    </tr>\n",
              "    <tr>\n",
              "      <th>date</th>\n",
              "      <td>0.00</td>\n",
              "    </tr>\n",
              "  </tbody>\n",
              "</table>\n",
              "</div>"
            ],
            "text/plain": [
              "                             Missing_Ratio\n",
              "pm2_5                                98.31\n",
              "spm                                  52.47\n",
              "agency                               36.19\n",
              "stn_code                             34.63\n",
              "so2                                   9.24\n",
              "rspm                                  8.19\n",
              "location_monitoring_station           6.30\n",
              "no2                                   3.75\n",
              "type                                  1.49\n",
              "sampling_date                         0.00\n",
              "state                                 0.00\n",
              "location                              0.00\n",
              "date                                  0.00"
            ]
          },
          "metadata": {
            "tags": []
          },
          "execution_count": 8
        }
      ]
    },
    {
      "cell_type": "markdown",
      "metadata": {
        "id": "Ox6CQkpPOzT-"
      },
      "source": [
        "Dropping columns that are not necessary"
      ]
    },
    {
      "cell_type": "code",
      "metadata": {
        "colab": {
          "base_uri": "https://localhost:8080/"
        },
        "id": "iBiO7FC9O4ed",
        "outputId": "76306c9c-51f2-4a8a-84fd-b4b425c02254"
      },
      "source": [
        "list(df.columns)"
      ],
      "execution_count": 9,
      "outputs": [
        {
          "output_type": "execute_result",
          "data": {
            "text/plain": [
              "['stn_code',\n",
              " 'sampling_date',\n",
              " 'state',\n",
              " 'location',\n",
              " 'agency',\n",
              " 'type',\n",
              " 'so2',\n",
              " 'no2',\n",
              " 'rspm',\n",
              " 'spm',\n",
              " 'location_monitoring_station',\n",
              " 'pm2_5',\n",
              " 'date']"
            ]
          },
          "metadata": {
            "tags": []
          },
          "execution_count": 9
        }
      ]
    },
    {
      "cell_type": "code",
      "metadata": {
        "id": "ve2YO7MpO8Z2"
      },
      "source": [
        "df.drop(['stn_code','sampling_date','pm2_5','spm'] , axis=1 , inplace=True)"
      ],
      "execution_count": 10,
      "outputs": []
    },
    {
      "cell_type": "markdown",
      "metadata": {
        "id": "4wXKdv1vO_zN"
      },
      "source": [
        "Getting Categorical and Numerical Columns"
      ]
    },
    {
      "cell_type": "code",
      "metadata": {
        "id": "CARzYsyEPAUG"
      },
      "source": [
        "cat_cols = list(df.select_dtypes(include=['object']).columns)\r\n",
        "num_cols = list(df.select_dtypes(exclude=['object']).columns)"
      ],
      "execution_count": 11,
      "outputs": []
    },
    {
      "cell_type": "code",
      "metadata": {
        "colab": {
          "base_uri": "https://localhost:8080/"
        },
        "id": "wNeRGA01PEbu",
        "outputId": "89320a89-1eba-4949-a04c-c79835e2b4b9"
      },
      "source": [
        "print('\\nNumerical Columns : ' , num_cols)\r\n",
        "print('\\nCategorical Columns : ' , cat_cols)"
      ],
      "execution_count": 12,
      "outputs": [
        {
          "output_type": "stream",
          "text": [
            "\n",
            "Numerical Columns :  ['so2', 'no2', 'rspm']\n",
            "\n",
            "Categorical Columns :  ['state', 'location', 'agency', 'type', 'location_monitoring_station', 'date']\n"
          ],
          "name": "stdout"
        }
      ]
    },
    {
      "cell_type": "markdown",
      "metadata": {
        "id": "pldHpKGQPIkX"
      },
      "source": [
        "Handeling Categorical columns"
      ]
    },
    {
      "cell_type": "code",
      "metadata": {
        "id": "3K6D2MJ_PJQm"
      },
      "source": [
        "df['date'] = pd.to_datetime(df['date'])"
      ],
      "execution_count": 14,
      "outputs": []
    },
    {
      "cell_type": "markdown",
      "metadata": {
        "id": "bZgBT-jwPOjm"
      },
      "source": [
        "Missing Values"
      ]
    },
    {
      "cell_type": "code",
      "metadata": {
        "colab": {
          "base_uri": "https://localhost:8080/"
        },
        "id": "GXKMmViWPPOd",
        "outputId": "00ed1a78-7c7e-4f02-d84a-5e2072153686"
      },
      "source": [
        "df['date'].isna().sum()"
      ],
      "execution_count": 15,
      "outputs": [
        {
          "output_type": "execute_result",
          "data": {
            "text/plain": [
              "1"
            ]
          },
          "metadata": {
            "tags": []
          },
          "execution_count": 15
        }
      ]
    },
    {
      "cell_type": "code",
      "metadata": {
        "id": "I4qmMPi5Pf09"
      },
      "source": [
        "df = df[df['date'].isna()==False]"
      ],
      "execution_count": 16,
      "outputs": []
    },
    {
      "cell_type": "markdown",
      "metadata": {
        "id": "vY4hmQv4PizV"
      },
      "source": [
        "'type' - column"
      ]
    },
    {
      "cell_type": "markdown",
      "metadata": {
        "id": "6QH3q_bWPioF"
      },
      "source": [
        "Missing Value Treatment"
      ]
    },
    {
      "cell_type": "code",
      "metadata": {
        "colab": {
          "base_uri": "https://localhost:8080/"
        },
        "id": "uGxq5yUzPma1",
        "outputId": "72490874-bdb7-4497-847f-cea85a3694f6"
      },
      "source": [
        "print('The number of missing values are : ',df['type'].isna().sum())"
      ],
      "execution_count": 17,
      "outputs": [
        {
          "output_type": "stream",
          "text": [
            "The number of missing values are :  1194\n"
          ],
          "name": "stdout"
        }
      ]
    },
    {
      "cell_type": "code",
      "metadata": {
        "id": "7PdzjKxgPs3N"
      },
      "source": [
        "df['type'] = df['type'].fillna('NA')"
      ],
      "execution_count": 18,
      "outputs": []
    },
    {
      "cell_type": "code",
      "metadata": {
        "colab": {
          "base_uri": "https://localhost:8080/"
        },
        "id": "8rSlF2-JPyHk",
        "outputId": "326f77dd-1db6-448f-f809-b970cc9fda50"
      },
      "source": [
        "df['type'].value_counts()"
      ],
      "execution_count": 19,
      "outputs": [
        {
          "output_type": "execute_result",
          "data": {
            "text/plain": [
              "Residential, Rural and other Areas    38180\n",
              "Residential and others                20628\n",
              "Industrial Area                       10867\n",
              "Industrial Areas                       5841\n",
              "Sensitive Area                         2083\n",
              "Sensitive Areas                        1282\n",
              "NA                                     1194\n",
              "Industrial                               36\n",
              "Residential                              15\n",
              "Name: type, dtype: int64"
            ]
          },
          "metadata": {
            "tags": []
          },
          "execution_count": 19
        }
      ]
    },
    {
      "cell_type": "code",
      "metadata": {
        "id": "2nN6KkYSP2Up"
      },
      "source": [
        "res_str='Residential|RIRUO'\r\n",
        "ind_str = 'Industrial'\r\n",
        "sen_str = 'Sensitive'\r\n",
        "\r\n",
        "rro_mask = df['type'].str.contains(res_str , regex=True)\r\n",
        "ind_mask = df['type'].str.contains(ind_str)\r\n",
        "sen_mask = df['type'].str.contains(sen_str)"
      ],
      "execution_count": 20,
      "outputs": []
    },
    {
      "cell_type": "code",
      "metadata": {
        "id": "emQCIh-RP4DP"
      },
      "source": [
        "df['type'][rro_mask] = 'RRO'\r\n",
        "df['type'][ind_mask] = 'Industrial'\r\n",
        "df['type'][sen_mask] = 'Sensitive'"
      ],
      "execution_count": 21,
      "outputs": []
    },
    {
      "cell_type": "code",
      "metadata": {
        "colab": {
          "base_uri": "https://localhost:8080/"
        },
        "id": "6HtKerOJP5xO",
        "outputId": "52edb25e-632f-4aa5-9ab1-84bc2e2a6ab2"
      },
      "source": [
        "df['type'].value_counts()"
      ],
      "execution_count": 22,
      "outputs": [
        {
          "output_type": "execute_result",
          "data": {
            "text/plain": [
              "RRO           58823\n",
              "Industrial    16744\n",
              "Sensitive      3365\n",
              "NA             1194\n",
              "Name: type, dtype: int64"
            ]
          },
          "metadata": {
            "tags": []
          },
          "execution_count": 22
        }
      ]
    },
    {
      "cell_type": "markdown",
      "metadata": {
        "id": "iVN26eRSP9H1"
      },
      "source": [
        "'agency' - column"
      ]
    },
    {
      "cell_type": "code",
      "metadata": {
        "colab": {
          "base_uri": "https://localhost:8080/"
        },
        "id": "YLI7ChGuP9k9",
        "outputId": "6a01e9b9-ff04-4adb-eb17-eba5d69808f1"
      },
      "source": [
        "print('The number of missing values are : ',df['agency'].isna().sum())"
      ],
      "execution_count": 23,
      "outputs": [
        {
          "output_type": "stream",
          "text": [
            "The number of missing values are :  28993\n"
          ],
          "name": "stdout"
        }
      ]
    },
    {
      "cell_type": "code",
      "metadata": {
        "id": "jSUgOdOrQE__"
      },
      "source": [
        "df['agency'].fillna('NA',inplace=True)"
      ],
      "execution_count": 24,
      "outputs": []
    },
    {
      "cell_type": "markdown",
      "metadata": {
        "id": "4s-TDukQQG19"
      },
      "source": [
        "'location monitoring station' - column"
      ]
    },
    {
      "cell_type": "code",
      "metadata": {
        "colab": {
          "base_uri": "https://localhost:8080/"
        },
        "id": "PxSn2DoyQIsZ",
        "outputId": "9221b790-5db1-4ba1-80a8-cda4cf77a6ee"
      },
      "source": [
        "print('The number of missing values are : ',df['location_monitoring_station'].isna().sum())"
      ],
      "execution_count": 25,
      "outputs": [
        {
          "output_type": "stream",
          "text": [
            "The number of missing values are :  5050\n"
          ],
          "name": "stdout"
        }
      ]
    },
    {
      "cell_type": "code",
      "metadata": {
        "id": "zCr6Fs_rQQ6N"
      },
      "source": [
        "df['location_monitoring_station'].fillna('NA',inplace=True)"
      ],
      "execution_count": 26,
      "outputs": []
    },
    {
      "cell_type": "markdown",
      "metadata": {
        "id": "XHLi_Zj_QTrX"
      },
      "source": [
        "'location' - column"
      ]
    },
    {
      "cell_type": "code",
      "metadata": {
        "colab": {
          "base_uri": "https://localhost:8080/"
        },
        "id": "RHe63gcAQUKW",
        "outputId": "386bb872-a01d-4b85-f6c5-39d039feca30"
      },
      "source": [
        "print('The number of missing values are : ',df['location'].isna().sum())"
      ],
      "execution_count": 27,
      "outputs": [
        {
          "output_type": "stream",
          "text": [
            "The number of missing values are :  0\n"
          ],
          "name": "stdout"
        }
      ]
    },
    {
      "cell_type": "markdown",
      "metadata": {
        "id": "g8MA-Tj-Qi6a"
      },
      "source": [
        "'state' - column"
      ]
    },
    {
      "cell_type": "code",
      "metadata": {
        "colab": {
          "base_uri": "https://localhost:8080/"
        },
        "id": "o3vuwi2cQjaX",
        "outputId": "54e0165d-2ff0-473a-ad3a-ff0540bee4c6"
      },
      "source": [
        "print('The number of missing values are : ',df['state'].isna().sum())"
      ],
      "execution_count": 28,
      "outputs": [
        {
          "output_type": "stream",
          "text": [
            "The number of missing values are :  0\n"
          ],
          "name": "stdout"
        }
      ]
    },
    {
      "cell_type": "markdown",
      "metadata": {
        "id": "hf9KpGYpQn0d"
      },
      "source": [
        "Handeling Numerical columns"
      ]
    },
    {
      "cell_type": "code",
      "metadata": {
        "colab": {
          "base_uri": "https://localhost:8080/"
        },
        "id": "X2HyJ19yQofF",
        "outputId": "7912d702-b056-4500-f826-6a15985ab06d"
      },
      "source": [
        "num_cols"
      ],
      "execution_count": 29,
      "outputs": [
        {
          "output_type": "execute_result",
          "data": {
            "text/plain": [
              "['so2', 'no2', 'rspm']"
            ]
          },
          "metadata": {
            "tags": []
          },
          "execution_count": 29
        }
      ]
    },
    {
      "cell_type": "markdown",
      "metadata": {
        "id": "Lvo7XDQfQtEl"
      },
      "source": [
        "'so2' - column"
      ]
    },
    {
      "cell_type": "code",
      "metadata": {
        "colab": {
          "base_uri": "https://localhost:8080/"
        },
        "id": "sVMh4Z1QQtjF",
        "outputId": "e9c1e927-3dee-4897-abc0-b84f8bbddb6a"
      },
      "source": [
        "df['so2'].describe()"
      ],
      "execution_count": 30,
      "outputs": [
        {
          "output_type": "execute_result",
          "data": {
            "text/plain": [
              "count    72720.000000\n",
              "mean         7.937499\n",
              "std          7.004708\n",
              "min          0.000000\n",
              "25%          4.200000\n",
              "50%          6.000000\n",
              "75%          9.300000\n",
              "max        228.000000\n",
              "Name: so2, dtype: float64"
            ]
          },
          "metadata": {
            "tags": []
          },
          "execution_count": 30
        }
      ]
    },
    {
      "cell_type": "markdown",
      "metadata": {
        "id": "Geow8T8fQ2c3"
      },
      "source": [
        "The above information shows that 75% of the values are within the value 9.30 and the maximum value is 228.0\r\n",
        "This means that there are outliers"
      ]
    },
    {
      "cell_type": "code",
      "metadata": {
        "colab": {
          "base_uri": "https://localhost:8080/",
          "height": 313
        },
        "id": "b4GiI6PIQ8-f",
        "outputId": "dacf1e3f-eb55-409c-c5b5-410068d1f2f0"
      },
      "source": [
        "print('Distribution of SO2')\r\n",
        "fig,ax=plt.subplots(1,2,figsize=(13,4))\r\n",
        "sns.distplot(df['so2'].dropna() , ax=ax[0])\r\n",
        "sns.boxplot(df['so2'].dropna() , ax=ax[1])\r\n",
        "\r\n",
        "so2_skew = df['so2'].skew()\r\n",
        "plt.show()\r\n",
        "print('Skewness = ',so2_skew)"
      ],
      "execution_count": 31,
      "outputs": [
        {
          "output_type": "stream",
          "text": [
            "Distribution of SO2\n"
          ],
          "name": "stdout"
        },
        {
          "output_type": "display_data",
          "data": {
            "image/png": "[encoded data removed]",
            "text/plain": [
              "<Figure size 936x288 with 2 Axes>"
            ]
          },
          "metadata": {
            "tags": [],
            "needs_background": "light"
          }
        },
        {
          "output_type": "stream",
          "text": [
            "Skewness =  5.945593643831621\n"
          ],
          "name": "stdout"
        }
      ]
    },
    {
      "cell_type": "markdown",
      "metadata": {
        "id": "lCuw1k5sRKm8"
      },
      "source": [
        "Removing Outliers"
      ]
    },
    {
      "cell_type": "code",
      "metadata": {
        "id": "0ebPriKcRLM1"
      },
      "source": [
        "Q1=df['so2'].quantile(0.25)\r\n",
        "Q3=df['so2'].quantile(0.75)\r\n",
        "IQR=Q3-Q1\r\n",
        "df=df[~((df['so2']<(Q1-1.5*IQR))|(df['so2']>(Q3+1.5*IQR)))]"
      ],
      "execution_count": 32,
      "outputs": []
    },
    {
      "cell_type": "code",
      "metadata": {
        "colab": {
          "base_uri": "https://localhost:8080/",
          "height": 313
        },
        "id": "FLw8ylVBROvu",
        "outputId": "551dd1c5-4c01-410e-f837-fc3afe854199"
      },
      "source": [
        "print('Distribution of SO2')\r\n",
        "sns.distplot(df['so2'].dropna())\r\n",
        "\r\n",
        "so2_skew = df['so2'].skew()\r\n",
        "plt.show()\r\n",
        "print('Skewness = ',so2_skew)"
      ],
      "execution_count": 33,
      "outputs": [
        {
          "output_type": "stream",
          "text": [
            "Distribution of SO2\n"
          ],
          "name": "stdout"
        },
        {
          "output_type": "display_data",
          "data": {
            "image/png": "[encoded data removed]",
            "text/plain": [
              "<Figure size 432x288 with 1 Axes>"
            ]
          },
          "metadata": {
            "tags": [],
            "needs_background": "light"
          }
        },
        {
          "output_type": "stream",
          "text": [
            "Skewness =  0.8221234148593459\n"
          ],
          "name": "stdout"
        }
      ]
    },
    {
      "cell_type": "markdown",
      "metadata": {
        "id": "X0XGipPlRWNu"
      },
      "source": [
        "Treating Missing Values"
      ]
    },
    {
      "cell_type": "code",
      "metadata": {
        "colab": {
          "base_uri": "https://localhost:8080/"
        },
        "id": "YQk3g054RW_U",
        "outputId": "b410948d-cf8e-48e5-b0fe-a91d658008ff"
      },
      "source": [
        "print('The number of missing values in SO2 are : ' , df['so2'].isna().sum())"
      ],
      "execution_count": 34,
      "outputs": [
        {
          "output_type": "stream",
          "text": [
            "The number of missing values in SO2 are :  7406\n"
          ],
          "name": "stdout"
        }
      ]
    },
    {
      "cell_type": "code",
      "metadata": {
        "colab": {
          "base_uri": "https://localhost:8080/",
          "height": 296
        },
        "id": "AQDuPBB5Ravw",
        "outputId": "f1c78dc3-3eda-4b22-a754-0ce36622244a"
      },
      "source": [
        "print('Distribution of SO2')\r\n",
        "sns.kdeplot(df['so2'].dropna())\r\n",
        "plt.axvline(df['so2'].mean(), color='r')\r\n",
        "plt.axvline(df['so2'].median(), color='g')\r\n",
        "\r\n",
        "plt.legend(['So2','Mean','Median'])\r\n",
        "plt.show()"
      ],
      "execution_count": 35,
      "outputs": [
        {
          "output_type": "stream",
          "text": [
            "Distribution of SO2\n"
          ],
          "name": "stdout"
        },
        {
          "output_type": "display_data",
          "data": {
            "image/png": "[encoded data removed]",
            "text/plain": [
              "<Figure size 432x288 with 1 Axes>"
            ]
          },
          "metadata": {
            "tags": [],
            "needs_background": "light"
          }
        }
      ]
    },
    {
      "cell_type": "code",
      "metadata": {
        "id": "Mc7VFSsiRfXA"
      },
      "source": [
        "df1= df.copy()\r\n",
        "df2=df.copy()"
      ],
      "execution_count": 36,
      "outputs": []
    },
    {
      "cell_type": "markdown",
      "metadata": {
        "id": "tFJqKpKCRhps"
      },
      "source": [
        "Mean Imputation"
      ]
    },
    {
      "cell_type": "code",
      "metadata": {
        "id": "vru51yfLRiS-"
      },
      "source": [
        "df1['so2'] = df1['so2'].fillna(df1['so2'].mean())"
      ],
      "execution_count": 37,
      "outputs": []
    },
    {
      "cell_type": "markdown",
      "metadata": {
        "id": "6SqA-jF5Ro0k"
      },
      "source": [
        "Forward Fill"
      ]
    },
    {
      "cell_type": "code",
      "metadata": {
        "id": "3ITFgOKyRrHF"
      },
      "source": [
        "df2['so2'] = df2['so2'].fillna(method='ffill')"
      ],
      "execution_count": 38,
      "outputs": []
    },
    {
      "cell_type": "code",
      "metadata": {
        "colab": {
          "base_uri": "https://localhost:8080/",
          "height": 312
        },
        "id": "uWHr7kxARw1E",
        "outputId": "f5bb4fce-d7b1-489e-83ed-8cf9d03a714a"
      },
      "source": [
        "print('Distribution of SO2')\r\n",
        "\r\n",
        "fig,ax=plt.subplots(1,2,figsize=(13,4))\r\n",
        "\r\n",
        "sns.kdeplot(df1['so2'] , ax=ax[0])\r\n",
        "ax[0].axvline(df1['so2'].mean(), color='r' )\r\n",
        "ax[0].axvline(df1['so2'].median(), color='g')\r\n",
        "ax[0].set_title('Mean Imputation')  \r\n",
        "ax[0].legend(['So2','Mean','Median'])\r\n",
        "\r\n",
        "sns.kdeplot(df2['so2'] , ax=ax[1])\r\n",
        "ax[1].axvline(df2['so2'].mean(), color='r')\r\n",
        "ax[1].axvline(df2['so2'].median(), color='g')\r\n",
        "ax[1].set_title('Forward Fill')\r\n",
        "ax[1].legend(['So2','Mean','Median'])\r\n",
        "                    \r\n",
        "                    \r\n",
        "plt.show()"
      ],
      "execution_count": 39,
      "outputs": [
        {
          "output_type": "stream",
          "text": [
            "Distribution of SO2\n"
          ],
          "name": "stdout"
        },
        {
          "output_type": "display_data",
          "data": {
            "image/png": "[encoded data removed]",
            "text/plain": [
              "<Figure size 936x288 with 2 Axes>"
            ]
          },
          "metadata": {
            "tags": [],
            "needs_background": "light"
          }
        }
      ]
    },
    {
      "cell_type": "markdown",
      "metadata": {
        "id": "jRxEqf4xR_W1"
      },
      "source": [
        "The above plots show that filling the missing values with Forward Fill dosen't cause any variation on the data, so we can choose Forward Fill"
      ]
    },
    {
      "cell_type": "code",
      "metadata": {
        "id": "CqTILB5NSAKO"
      },
      "source": [
        "df['so2'] = df['so2'].fillna(method='ffill')"
      ],
      "execution_count": 40,
      "outputs": []
    },
    {
      "cell_type": "markdown",
      "metadata": {
        "id": "cfyJmNIQSDTw"
      },
      "source": [
        "'no2' - column"
      ]
    },
    {
      "cell_type": "code",
      "metadata": {
        "colab": {
          "base_uri": "https://localhost:8080/"
        },
        "id": "-r81wjfSSJXW",
        "outputId": "0ef6ee7d-089b-4bfd-8e6b-eb364e86d1eb"
      },
      "source": [
        "df['no2'].describe()"
      ],
      "execution_count": 41,
      "outputs": [
        {
          "output_type": "execute_result",
          "data": {
            "text/plain": [
              "count    72703.000000\n",
              "mean        21.919509\n",
              "std         15.951587\n",
              "min          0.000000\n",
              "25%         12.900000\n",
              "50%         17.000000\n",
              "75%         26.300000\n",
              "max        334.900000\n",
              "Name: no2, dtype: float64"
            ]
          },
          "metadata": {
            "tags": []
          },
          "execution_count": 41
        }
      ]
    },
    {
      "cell_type": "markdown",
      "metadata": {
        "id": "DXWUhAJXSR_s"
      },
      "source": [
        "The above information shows that 75% of the values are within the value 30.8 and the maximum value is 334.90\r\n",
        "This means that there are outliers"
      ]
    },
    {
      "cell_type": "code",
      "metadata": {
        "colab": {
          "base_uri": "https://localhost:8080/",
          "height": 316
        },
        "id": "aHBs3mkuSPaF",
        "outputId": "142dfd97-9b79-4525-b9a0-b3099a2baabc"
      },
      "source": [
        "print('Distribution of NO2')\r\n",
        "fig,ax=plt.subplots(1,2,figsize=(13,4))\r\n",
        "sns.distplot(df['no2'].dropna() , ax=ax[0])\r\n",
        "sns.boxplot(df['no2'].dropna() , ax=ax[1])\r\n",
        "no2_skew = df['no2'].skew()\r\n",
        "plt.show()\r\n",
        "print('Skewness = ',no2_skew)"
      ],
      "execution_count": 42,
      "outputs": [
        {
          "output_type": "stream",
          "text": [
            "Distribution of NO2\n"
          ],
          "name": "stdout"
        },
        {
          "output_type": "display_data",
          "data": {
            "image/png": "[encoded data removed]",
            "text/plain": [
              "<Figure size 936x288 with 2 Axes>"
            ]
          },
          "metadata": {
            "tags": [],
            "needs_background": "light"
          }
        },
        {
          "output_type": "stream",
          "text": [
            "Skewness =  3.1966114326575585\n"
          ],
          "name": "stdout"
        }
      ]
    },
    {
      "cell_type": "markdown",
      "metadata": {
        "id": "0yFpgmZTSj1G"
      },
      "source": [
        "Removing Outliers"
      ]
    },
    {
      "cell_type": "code",
      "metadata": {
        "id": "D5n8qpSOSkRc"
      },
      "source": [
        "Q1=df['no2'].quantile(0.25)\r\n",
        "Q3=df['no2'].quantile(0.75)\r\n",
        "IQR=Q3-Q1\r\n",
        "df=df[~((df['no2']<(Q1-1.5*IQR))|(df['no2']>(Q3+1.5*IQR)))]"
      ],
      "execution_count": 43,
      "outputs": []
    },
    {
      "cell_type": "code",
      "metadata": {
        "colab": {
          "base_uri": "https://localhost:8080/",
          "height": 313
        },
        "id": "v9mGMyU1SnG3",
        "outputId": "5eaccc5f-6f1f-44b4-8ac0-de0c4e66f3ba"
      },
      "source": [
        "print('Distribution of NO2')\r\n",
        "fig,ax=plt.subplots(1,2,figsize=(13,4))\r\n",
        "sns.distplot(df['no2'].dropna() , ax=ax[0])\r\n",
        "sns.boxplot(df['no2'].dropna() , ax=ax[1])\r\n",
        "no2_skew = df['no2'].skew()\r\n",
        "plt.show()\r\n",
        "print('Skewness = ',no2_skew)"
      ],
      "execution_count": 44,
      "outputs": [
        {
          "output_type": "stream",
          "text": [
            "Distribution of NO2\n"
          ],
          "name": "stdout"
        },
        {
          "output_type": "display_data",
          "data": {
            "image/png": "[encoded data removed]",
            "text/plain": [
              "<Figure size 936x288 with 2 Axes>"
            ]
          },
          "metadata": {
            "tags": [],
            "needs_background": "light"
          }
        },
        {
          "output_type": "stream",
          "text": [
            "Skewness =  0.9356716924413435\n"
          ],
          "name": "stdout"
        }
      ]
    },
    {
      "cell_type": "markdown",
      "metadata": {
        "id": "6b0wSDlHSs9R"
      },
      "source": [
        "Treating Missing Values"
      ]
    },
    {
      "cell_type": "code",
      "metadata": {
        "colab": {
          "base_uri": "https://localhost:8080/"
        },
        "id": "cAPRGYRHSt0F",
        "outputId": "c497bb25-fbf8-45c5-929d-1e0c71f7b8cc"
      },
      "source": [
        "print('The number of missing values in NO2 are : ' , df['no2'].isna().sum())"
      ],
      "execution_count": 45,
      "outputs": [
        {
          "output_type": "stream",
          "text": [
            "The number of missing values in NO2 are :  2992\n"
          ],
          "name": "stdout"
        }
      ]
    },
    {
      "cell_type": "code",
      "metadata": {
        "colab": {
          "base_uri": "https://localhost:8080/",
          "height": 296
        },
        "id": "GE1Sc4SaSxtc",
        "outputId": "db71c7a2-4891-48ae-92c9-bf29a862793a"
      },
      "source": [
        "print('Distribution of NO2')\r\n",
        "sns.kdeplot(df['no2'])\r\n",
        "plt.axvline(df['no2'].mean(), color='r')\r\n",
        "plt.axvline(df['no2'].median(), color='g')\r\n",
        "plt.legend(['No2','Mean','Median'])\r\n",
        "plt.show()"
      ],
      "execution_count": 46,
      "outputs": [
        {
          "output_type": "stream",
          "text": [
            "Distribution of NO2\n"
          ],
          "name": "stdout"
        },
        {
          "output_type": "display_data",
          "data": {
            "image/png": "[encoded data removed]",
            "text/plain": [
              "<Figure size 432x288 with 1 Axes>"
            ]
          },
          "metadata": {
            "tags": [],
            "needs_background": "light"
          }
        }
      ]
    },
    {
      "cell_type": "code",
      "metadata": {
        "id": "7s0R-zYZTQYX"
      },
      "source": [
        "df1 = df.copy()\r\n",
        "df2 = df.copy()"
      ],
      "execution_count": 47,
      "outputs": []
    },
    {
      "cell_type": "code",
      "metadata": {
        "id": "K61EqDQ0TS-B"
      },
      "source": [
        "#Mean Imputation\r\n",
        "df1['no2'] = df1['no2'].fillna(df1['no2'].mean())\r\n",
        "#Forward Fill\r\n",
        "df2['no2'] = df2['no2'].fillna(method='ffill')"
      ],
      "execution_count": 48,
      "outputs": []
    },
    {
      "cell_type": "code",
      "metadata": {
        "colab": {
          "base_uri": "https://localhost:8080/",
          "height": 312
        },
        "id": "CRZ1jm6lTV98",
        "outputId": "1bf78bb2-0dc3-4b8a-99c4-be97488157e7"
      },
      "source": [
        "print('Distribution of NO2')\r\n",
        "\r\n",
        "fig,ax=plt.subplots(1,2,figsize=(13,4))\r\n",
        "\r\n",
        "sns.kdeplot(df1['no2'] , ax=ax[0])\r\n",
        "ax[0].axvline(df1['no2'].mean(), color='r' )\r\n",
        "ax[0].axvline(df1['no2'].median(), color='g')\r\n",
        "ax[0].set_title('Mean Imputation')    \r\n",
        "ax[0].legend(['No2','Mean','Median'])\r\n",
        "\r\n",
        "sns.kdeplot(df2['no2'] , ax=ax[1])\r\n",
        "ax[1].axvline(df2['no2'].mean(), color='r')\r\n",
        "ax[1].axvline(df2['no2'].median(), color='g')\r\n",
        "ax[1].set_title('Forward Fill')\r\n",
        "ax[1].legend(['no2','Mean','Median'])\r\n",
        "                    \r\n",
        "                    \r\n",
        "plt.show()"
      ],
      "execution_count": 49,
      "outputs": [
        {
          "output_type": "stream",
          "text": [
            "Distribution of NO2\n"
          ],
          "name": "stdout"
        },
        {
          "output_type": "display_data",
          "data": {
            "image/png": "[encoded data removed]",
            "text/plain": [
              "<Figure size 936x288 with 2 Axes>"
            ]
          },
          "metadata": {
            "tags": [],
            "needs_background": "light"
          }
        }
      ]
    },
    {
      "cell_type": "code",
      "metadata": {
        "id": "zLu7vuM1TfpD"
      },
      "source": [
        "df['no2'] = df['no2'].fillna(method='ffill')"
      ],
      "execution_count": 50,
      "outputs": []
    },
    {
      "cell_type": "markdown",
      "metadata": {
        "id": "qwJ-iOn9TiAE"
      },
      "source": [
        "'rspm' - column\r\n"
      ]
    },
    {
      "cell_type": "code",
      "metadata": {
        "colab": {
          "base_uri": "https://localhost:8080/"
        },
        "id": "lllo3i5hTikN",
        "outputId": "17fb0fd5-4255-444a-8fc3-dd6a82278fb4"
      },
      "source": [
        "df['rspm'].describe()"
      ],
      "execution_count": 51,
      "outputs": [
        {
          "output_type": "execute_result",
          "data": {
            "text/plain": [
              "count    66630.000000\n",
              "mean        90.191195\n",
              "std         54.255667\n",
              "min          0.000000\n",
              "25%         55.000000\n",
              "50%         79.000000\n",
              "75%        110.000000\n",
              "max        790.000000\n",
              "Name: rspm, dtype: float64"
            ]
          },
          "metadata": {
            "tags": []
          },
          "execution_count": 51
        }
      ]
    },
    {
      "cell_type": "markdown",
      "metadata": {
        "id": "IyZNResYTuPs"
      },
      "source": [
        "The above information shows that 75% of the values are within the value 110.0 and the maximum value is 790.00\r\n",
        "This means that there are outliers"
      ]
    },
    {
      "cell_type": "code",
      "metadata": {
        "colab": {
          "base_uri": "https://localhost:8080/",
          "height": 313
        },
        "id": "YIIBGyNqTtyt",
        "outputId": "39bee82f-58bb-4f60-9a8a-816f87b82b09"
      },
      "source": [
        "print('Distribution of RSPM')\r\n",
        "fig,ax=plt.subplots(1,2,figsize=(13,4))\r\n",
        "sns.distplot(df['rspm'].dropna() , ax=ax[0])\r\n",
        "sns.boxplot(df['rspm'].dropna() , ax=ax[1])\r\n",
        "plt.show()\r\n",
        "print('Skewness = ',df['rspm'].skew())"
      ],
      "execution_count": 52,
      "outputs": [
        {
          "output_type": "stream",
          "text": [
            "Distribution of RSPM\n"
          ],
          "name": "stdout"
        },
        {
          "output_type": "display_data",
          "data": {
            "image/png": "[encoded data removed]",
            "text/plain": [
              "<Figure size 936x288 with 2 Axes>"
            ]
          },
          "metadata": {
            "tags": [],
            "needs_background": "light"
          }
        },
        {
          "output_type": "stream",
          "text": [
            "Skewness =  2.054389240795923\n"
          ],
          "name": "stdout"
        }
      ]
    },
    {
      "cell_type": "markdown",
      "metadata": {
        "id": "T8na2ejRT5ki"
      },
      "source": [
        "Removing Outliers"
      ]
    },
    {
      "cell_type": "code",
      "metadata": {
        "id": "coV2Igc9T5_8"
      },
      "source": [
        "Q1=df['rspm'].quantile(0.25)\r\n",
        "Q3=df['rspm'].quantile(0.75)\r\n",
        "IQR=Q3-Q1\r\n",
        "df=df[~((df['rspm']<(Q1-1.5*IQR))|(df['rspm']>(Q3+1.5*IQR)))]"
      ],
      "execution_count": 53,
      "outputs": []
    },
    {
      "cell_type": "code",
      "metadata": {
        "colab": {
          "base_uri": "https://localhost:8080/",
          "height": 313
        },
        "id": "HS_HfIyrUA21",
        "outputId": "92745b0a-191c-45bb-cc18-81f92e50f3d3"
      },
      "source": [
        "print('Distribution of RSPM')\r\n",
        "fig,ax=plt.subplots(1,2,figsize=(13,4))\r\n",
        "sns.distplot(df['rspm'].dropna() , ax=ax[0])\r\n",
        "sns.boxplot(df['rspm'].dropna() , ax=ax[1])\r\n",
        "plt.show()\r\n",
        "print('Skewness = ',df['rspm'].skew())"
      ],
      "execution_count": 54,
      "outputs": [
        {
          "output_type": "stream",
          "text": [
            "Distribution of RSPM\n"
          ],
          "name": "stdout"
        },
        {
          "output_type": "display_data",
          "data": {
            "image/png": "[encoded data removed]",
            "text/plain": [
              "<Figure size 936x288 with 2 Axes>"
            ]
          },
          "metadata": {
            "tags": [],
            "needs_background": "light"
          }
        },
        {
          "output_type": "stream",
          "text": [
            "Skewness =  0.648238311325767\n"
          ],
          "name": "stdout"
        }
      ]
    },
    {
      "cell_type": "markdown",
      "metadata": {
        "id": "rvSzZ1_uUFxm"
      },
      "source": [
        "The above plots show that significant Positiv Skwewness is reduced and the outliers are removed"
      ]
    },
    {
      "cell_type": "markdown",
      "metadata": {
        "id": "oRNQQ3yIUJcW"
      },
      "source": [
        "Treating Missing Values"
      ]
    },
    {
      "cell_type": "code",
      "metadata": {
        "colab": {
          "base_uri": "https://localhost:8080/"
        },
        "id": "uSucB7q8UKNc",
        "outputId": "a216f755-118b-42bd-f75f-3ff7756a9c3a"
      },
      "source": [
        "print('The number of missing values in RSPM are : ' , df['rspm'].isna().sum())"
      ],
      "execution_count": 55,
      "outputs": [
        {
          "output_type": "stream",
          "text": [
            "The number of missing values in RSPM are :  4445\n"
          ],
          "name": "stdout"
        }
      ]
    },
    {
      "cell_type": "code",
      "metadata": {
        "id": "IizR1sHZUO_l"
      },
      "source": [
        "df1 = df.copy()\r\n",
        "df2 = df.copy()"
      ],
      "execution_count": 56,
      "outputs": []
    },
    {
      "cell_type": "code",
      "metadata": {
        "id": "Ltp0OR0DURPE"
      },
      "source": [
        "#Mean Imputation\r\n",
        "df1['rspm'] = df1['rspm'].fillna(df1['rspm'].mean())\r\n",
        "#Forward Fill\r\n",
        "df2['rspm'] = df2['rspm'].fillna(method='ffill')"
      ],
      "execution_count": 57,
      "outputs": []
    },
    {
      "cell_type": "code",
      "metadata": {
        "colab": {
          "base_uri": "https://localhost:8080/",
          "height": 312
        },
        "id": "zNoUvMFSUWrt",
        "outputId": "8eb3f34f-bace-48bb-d513-e3b4b03c6202"
      },
      "source": [
        "print('Distribution of RSPM')\r\n",
        "\r\n",
        "fig,ax=plt.subplots(1,2,figsize=(13,4))\r\n",
        "\r\n",
        "sns.kdeplot(df1['rspm'] , ax=ax[0])\r\n",
        "ax[0].axvline(df1['rspm'].mean(), color='r' )\r\n",
        "ax[0].axvline(df1['rspm'].median(), color='g')\r\n",
        "ax[0].set_title('Mean Imputation')    \r\n",
        "ax[0].legend(['rspm','Mean','Median'])\r\n",
        "\r\n",
        "sns.kdeplot(df2['rspm'] , ax=ax[1])\r\n",
        "ax[1].axvline(df2['rspm'].mean(), color='r')\r\n",
        "ax[1].axvline(df2['rspm'].median(), color='g')\r\n",
        "ax[1].set_title('Forward Fill')\r\n",
        "ax[1].legend(['rspm','Mean','Median'])\r\n",
        "                    \r\n",
        "                    \r\n",
        "plt.show()"
      ],
      "execution_count": 58,
      "outputs": [
        {
          "output_type": "stream",
          "text": [
            "Distribution of RSPM\n"
          ],
          "name": "stdout"
        },
        {
          "output_type": "display_data",
          "data": {
            "image/png": "[encoded data removed]",
            "text/plain": [
              "<Figure size 936x288 with 2 Axes>"
            ]
          },
          "metadata": {
            "tags": [],
            "needs_background": "light"
          }
        }
      ]
    }
  ]
}